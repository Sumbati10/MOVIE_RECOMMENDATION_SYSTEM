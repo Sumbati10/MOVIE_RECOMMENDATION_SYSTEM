{
 "cells": [
  {
   "cell_type": "code",
   "execution_count": 1,
   "id": "1883ceb8-ebcf-40a9-8095-4618ce9ef115",
   "metadata": {},
   "outputs": [],
   "source": [
    "import numpy as np\n",
    "import pandas as pd\n",
    "from tqdm import tqdm\n",
    "import time\n",
    "from sklearn.feature_extraction.text import TfidfVectorizer\n",
    "from surprise import Reader, Dataset, SVDpp, KNNWithMeans, SlopeOne\n",
    "from surprise.model_selection import GridSearchCV\n",
    "\n",
    "import warnings\n",
    "warnings.filterwarnings(\"ignore\")"
   ]
  },
  {
   "cell_type": "code",
   "execution_count": 2,
   "id": "da509bcf-0288-4f85-8990-ee93bcb7a897",
   "metadata": {},
   "outputs": [
    {
     "name": "stdout",
     "output_type": "stream",
     "text": [
      "Loading data...\n"
     ]
    }
   ],
   "source": [
    "# Load data\n",
    "print(\"Loading data...\")\n",
    "train_df = pd.read_csv('train.csv')\n",
    "movies_df = pd.read_csv('movies.csv')\n",
    "test_df = pd.read_csv('test.csv')"
   ]
  },
  {
   "cell_type": "code",
   "execution_count": 3,
   "id": "53afb891-16b3-4320-b840-48d73d55a3ef",
   "metadata": {},
   "outputs": [],
   "source": [
    "# Prepare data for Surprise library\n",
    "reader = Reader(rating_scale=(0.5, 5.0))\n",
    "data = Dataset.load_from_df(train_df[['userId', 'movieId', 'rating']], reader)"
   ]
  },
  {
   "cell_type": "code",
   "execution_count": null,
   "id": "7adadd8a-270c-44ce-a1fe-002ea0219af5",
   "metadata": {},
   "outputs": [
    {
     "name": "stdout",
     "output_type": "stream",
     "text": [
      "Performing hyperparameter tuning...\n"
     ]
    }
   ],
   "source": [
    "# Perform hyperparameter tuning\n",
    "print(\"Performing hyperparameter tuning...\")\n",
    "param_grid = {\n",
    "    'n_factors': [50, 100],\n",
    "    'n_epochs': [20, 30],\n",
    "    'lr_all': [0.005, 0.01],\n",
    "    'reg_all': [0.02, 0.1]\n",
    "}\n",
    "\n",
    "gs = GridSearchCV(SVDpp, param_grid, measures=['rmse'], cv=3)\n",
    "gs.fit(data)"
   ]
  },
  {
   "cell_type": "code",
   "execution_count": null,
   "id": "cf7a5a28-192f-4484-a4c9-f923478ffb1c",
   "metadata": {},
   "outputs": [],
   "source": [
    "# Train models\n",
    "print(\"Training models...\")\n",
    "svd = gs.best_estimator['rmse']\n",
    "knn = KNNWithMeans(k=40, min_k=2, sim_options={'name': 'pearson_baseline', 'user_based': False})\n",
    "slope_one = SlopeOne()\n",
    "\n",
    "trainset = data.build_full_trainset()\n",
    "svd.fit(trainset)\n",
    "knn.fit(trainset)\n",
    "slope_one.fit(trainset)"
   ]
  },
  {
   "cell_type": "code",
   "execution_count": null,
   "id": "35c45557-bb40-410f-bf61-eacd466adb14",
   "metadata": {},
   "outputs": [],
   "source": [
    "# Prepare additional features\n",
    "print(\"Preparing additional features...\")\n",
    "movies_df['genres'] = movies_df['genres'].fillna('')\n",
    "tfidf = TfidfVectorizer(token_pattern=r'\\b\\w+\\b')\n",
    "genre_matrix = tfidf.fit_transform(movies_df['genres'])\n",
    "\n",
    "global_mean = train_df['rating'].mean()\n",
    "user_biases = train_df.groupby('userId')['rating'].mean() - global_mean\n",
    "movie_biases = train_df.groupby('movieId')['rating'].mean() - global_mean\n",
    "\n",
    "def ensemble_predict(user, item):\n",
    "    svd_pred = svd.predict(user, item).est\n",
    "    knn_pred = knn.predict(user, item).est\n",
    "    slope_one_pred = slope_one.predict(user, item).est\n",
    "    \n",
    "    user_bias = user_biases.get(user, 0)\n",
    "    movie_bias = movie_biases.get(item, 0)\n",
    "    \n",
    "    genre_features = genre_matrix[movies_df['movieId'] == item].toarray().flatten()\n",
    "    genre_weight = 0.1\n",
    "    \n",
    "    ensemble_pred = (svd_pred + knn_pred + slope_one_pred) / 3\n",
    "    final_pred = ensemble_pred + user_bias + movie_bias + genre_weight * np.mean(genre_features)\n",
    "    \n",
    "    return max(0.5, min(5.0, final_pred))"
   ]
  },
  {
   "cell_type": "code",
   "execution_count": null,
   "id": "6183ba2d-ff90-4be9-8ef4-05dde428f4d2",
   "metadata": {},
   "outputs": [],
   "source": [
    "# Create test pairs\n",
    "test_pairs = set(test_df.apply(lambda row: f\"{row['userId']}_{row['movieId']}\", axis=1))\n",
    "\n",
    "def get_predictions_batch(test_pairs, batch_size=1000):\n",
    "    predictions = {}\n",
    "    for i in tqdm(range(0, len(test_pairs), batch_size)):\n",
    "        batch_pairs = list(test_pairs)[i:i+batch_size]\n",
    "        for pair in batch_pairs:\n",
    "            user, movie = map(int, pair.split('_'))\n",
    "            est = ensemble_predict(user, movie)\n",
    "            predictions[pair] = est\n",
    "    return predictions"
   ]
  },
  {
   "cell_type": "code",
   "execution_count": null,
   "id": "0a2908de-b919-4c9e-b4a9-ab76f5dc3958",
   "metadata": {},
   "outputs": [],
   "source": [
    "# Find optimal batch size\n",
    "print(\"Finding optimal batch size...\")\n",
    "batch_sizes = [1000, 5000, 10000, 20000]\n",
    "optimal_batch_size = 1000\n",
    "min_time = float('inf')\n",
    "\n",
    "for batch_size in batch_sizes:\n",
    "    start_time = time.time()\n",
    "    _ = get_predictions_batch(list(test_pairs)[:10000], batch_size=batch_size)  # Use a subset for testing\n",
    "    end_time = time.time()\n",
    "    elapsed_time = end_time - start_time\n",
    "    print(f\"Batch size {batch_size}: {elapsed_time:.2f} seconds\")\n",
    "    if elapsed_time < min_time:\n",
    "        min_time = elapsed_time\n",
    "        optimal_batch_size = batch_size\n",
    "\n",
    "print(f\"Optimal batch size: {optimal_batch_size}\")"
   ]
  },
  {
   "cell_type": "code",
   "execution_count": null,
   "id": "434cd040-c671-4f1a-a246-46ab1c353956",
   "metadata": {},
   "outputs": [],
   "source": [
    "# Generate final predictions\n",
    "print(\"Generating final predictions...\")\n",
    "predictions = get_predictions_batch(test_pairs, batch_size=optimal_batch_size)"
   ]
  },
  {
   "cell_type": "code",
   "execution_count": null,
   "id": "529f0b8e-6398-407f-9872-2b7f9c4b55d8",
   "metadata": {},
   "outputs": [],
   "source": [
    "# Create submission DataFrame\n",
    "print(\"Creating submission DataFrame...\")\n",
    "submission = pd.DataFrame.from_dict(predictions, orient='index', columns=['rating'])\n",
    "submission.index.name = 'Id'\n",
    "submission.reset_index(inplace=True)"
   ]
  },
  {
   "cell_type": "code",
   "execution_count": null,
   "id": "964aa0f6-4385-49f3-a9f5-1c13932c1f09",
   "metadata": {},
   "outputs": [],
   "source": [
    "# Save submission\n",
    "print(\"Saving submission to CSV...\")\n",
    "submission.to_csv('submission.csv', index=False)\n",
    "print(\"Done!\")"
   ]
  }
 ],
 "metadata": {
  "kernelspec": {
   "display_name": "Python 3 (ipykernel)",
   "language": "python",
   "name": "python3"
  },
  "language_info": {
   "codemirror_mode": {
    "name": "ipython",
    "version": 3
   },
   "file_extension": ".py",
   "mimetype": "text/x-python",
   "name": "python",
   "nbconvert_exporter": "python",
   "pygments_lexer": "ipython3",
   "version": "3.12.4"
  }
 },
 "nbformat": 4,
 "nbformat_minor": 5
}
